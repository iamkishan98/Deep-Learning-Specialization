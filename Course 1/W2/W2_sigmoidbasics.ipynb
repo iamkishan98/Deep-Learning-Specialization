{
  "nbformat": 4,
  "nbformat_minor": 0,
  "metadata": {
    "colab": {
      "name": "W2_sigmoidbasics.ipynb",
      "provenance": [],
      "collapsed_sections": [],
      "authorship_tag": "ABX9TyMQ1LEE90lU7gx4R3mc3Y86",
      "include_colab_link": true
    },
    "kernelspec": {
      "name": "python3",
      "display_name": "Python 3"
    }
  },
  "cells": [
    {
      "cell_type": "markdown",
      "metadata": {
        "id": "view-in-github",
        "colab_type": "text"
      },
      "source": [
        "<a href=\"https://colab.research.google.com/github/iamkishan98/Deep-Learning-Coursera/blob/master/W2_sigmoidbasics.ipynb\" target=\"_parent\"><img src=\"https://colab.research.google.com/assets/colab-badge.svg\" alt=\"Open In Colab\"/></a>"
      ]
    },
    {
      "cell_type": "code",
      "metadata": {
        "id": "7L3Rlo01h8xP",
        "colab_type": "code",
        "colab": {}
      },
      "source": [
        "import numpy as np\n",
        "import matplotlib.pyplot as plt \n",
        "import h5py\n",
        "import scipy\n",
        "from PIL import Image \n",
        "from scipy import ndimage\n",
        "\n",
        "%matplotlib inline\n"
      ],
      "execution_count": 0,
      "outputs": []
    },
    {
      "cell_type": "code",
      "metadata": {
        "id": "4PC_kW_mk469",
        "colab_type": "code",
        "colab": {
          "base_uri": "https://localhost:8080/",
          "height": 34
        },
        "outputId": "321ada1e-fa9f-46f7-f932-eec32ced4f11"
      },
      "source": [
        "import math\n",
        "import numpy as np\n",
        "# BAsic sigmoid function\n",
        "def sigmoid(x):\n",
        "  s = 1./(1 + np.exp(-x))\n",
        "  return s\n",
        "x = np.array([1,2,3])\n",
        "sigmoid(x)\n"
      ],
      "execution_count": 15,
      "outputs": [
        {
          "output_type": "execute_result",
          "data": {
            "text/plain": [
              "array([0.73105858, 0.88079708, 0.95257413])"
            ]
          },
          "metadata": {
            "tags": []
          },
          "execution_count": 15
        }
      ]
    }
  ]
}