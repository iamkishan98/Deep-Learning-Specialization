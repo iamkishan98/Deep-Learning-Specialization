{
  "nbformat": 4,
  "nbformat_minor": 0,
  "metadata": {
    "colab": {
      "name": "vectors.ipynb",
      "provenance": [],
      "collapsed_sections": [],
      "authorship_tag": "ABX9TyO5A7bp+j4YZBbKI7nF2YlJ",
      "include_colab_link": true
    },
    "kernelspec": {
      "name": "python3",
      "display_name": "Python 3"
    }
  },
  "cells": [
    {
      "cell_type": "markdown",
      "metadata": {
        "id": "view-in-github",
        "colab_type": "text"
      },
      "source": [
        "<a href=\"https://colab.research.google.com/github/iamkishan98/Deep-Learning-Coursera/blob/master/vectors.ipynb\" target=\"_parent\"><img src=\"https://colab.research.google.com/assets/colab-badge.svg\" alt=\"Open In Colab\"/></a>"
      ]
    },
    {
      "cell_type": "code",
      "metadata": {
        "id": "pIlmiKLIKQqy",
        "colab_type": "code",
        "outputId": "1686a19e-2e4b-43af-b47a-2e1facb0ce71",
        "colab": {
          "base_uri": "https://localhost:8080/",
          "height": 104
        }
      },
      "source": [
        "import numpy as np\n",
        "import time \n",
        "\n",
        "w = np.random.rand(1000)\n",
        "x = np.random.rand(1000)\n",
        "t1 = time.time()\n",
        "z = np.dot(w,x)\n",
        "t2 = time.time()\n",
        "print(z)\n",
        "print(str(1000*(t2-t1))+\"ms\")\n",
        "\n",
        "z2 =0\n",
        "t3 = time.time()\n",
        "for i in range(0,1000):\n",
        "  z2 = z2 + (w[i]*x[i])\n",
        "t4 = time.time()\n",
        "print(z2)\n",
        "print(str(1000*(t4-t3))+\"ms\")\n",
        "\n",
        "u = np.random.rand(5)\n",
        "v = np.array([1,2,3,4])\n",
        "z3 = np.exp(v)\n",
        "print(z3)"
      ],
      "execution_count": 0,
      "outputs": [
        {
          "output_type": "stream",
          "text": [
            "244.45058226630584\n",
            "0.09608268737792969ms\n",
            "244.450582266306\n",
            "1.6748905181884766ms\n",
            "[ 2.71828183  7.3890561  20.08553692 54.59815003]\n"
          ],
          "name": "stdout"
        }
      ]
    },
    {
      "cell_type": "code",
      "metadata": {
        "id": "_QrOnl4vttKE",
        "colab_type": "code",
        "colab": {
          "base_uri": "https://localhost:8080/",
          "height": 121
        },
        "outputId": "bf2abb2a-dc2a-42e1-a864-73fb670f1e47"
      },
      "source": [
        "# Broadcasting In  python\n",
        "import numpy as np\n",
        "\n",
        "a =[1,2,3]\n",
        "b=[5]\n",
        "c = a+b\n",
        "print(c)\n",
        "# Broadcasting does not work for List in the python , it only works for Numpy array\n",
        "\n",
        "d =np.array([[2,3,4,5],[10,45,7,8]])\n",
        "e = [4,7,8,6]\n",
        "f = d+e\n",
        "print(f)\n",
        "\n",
        "#x =np.array([[4,5,6,7],[10,11,12,13]])\n",
        "#y = np.array([3,4])\n",
        "#z = x+y\n",
        "#print(z) \n",
        "\n",
        "print(f.shape)\n",
        "assert(f.shape==(2,4))\n",
        "f.reshape(4,2)\n",
        "print(f)"
      ],
      "execution_count": 15,
      "outputs": [
        {
          "output_type": "stream",
          "text": [
            "[1, 2, 3, 5]\n",
            "[[ 6 10 12 11]\n",
            " [14 52 15 14]]\n",
            "(2, 4)\n",
            "[[ 6 10 12 11]\n",
            " [14 52 15 14]]\n"
          ],
          "name": "stdout"
        }
      ]
    }
  ]
}