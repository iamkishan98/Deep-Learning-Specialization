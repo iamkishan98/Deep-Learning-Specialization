{
  "nbformat": 4,
  "nbformat_minor": 0,
  "metadata": {
    "colab": {
      "name": "W2_Sigderivative.ipynb",
      "provenance": [],
      "collapsed_sections": [],
      "authorship_tag": "ABX9TyOcl37YujeSbiyhf2Hdwkg+",
      "include_colab_link": true
    },
    "kernelspec": {
      "name": "python3",
      "display_name": "Python 3"
    }
  },
  "cells": [
    {
      "cell_type": "markdown",
      "metadata": {
        "id": "view-in-github",
        "colab_type": "text"
      },
      "source": [
        "<a href=\"https://colab.research.google.com/github/iamkishan98/Deep-Learning-Coursera/blob/master/W2_Sigderivative.ipynb\" target=\"_parent\"><img src=\"https://colab.research.google.com/assets/colab-badge.svg\" alt=\"Open In Colab\"/></a>"
      ]
    },
    {
      "cell_type": "code",
      "metadata": {
        "id": "YVl7B7TRvvoH",
        "colab_type": "code",
        "colab": {
          "base_uri": "https://localhost:8080/",
          "height": 34
        },
        "outputId": "a3ad60a5-007f-42dd-e4af-b36cc2a836d6"
      },
      "source": [
        "import numpy as np\n",
        "def sigmoid_derivative(x):\n",
        "  s = 1./(1+np.exp(-x))\n",
        "  ds = s*(1-s)\n",
        "  return ds\n",
        "\n",
        "x = np.array([1,2,3])\n",
        "print(\"sigmoid_derivative(x) = \" + str(sigmoid_derivative(x)))"
      ],
      "execution_count": 2,
      "outputs": [
        {
          "output_type": "stream",
          "text": [
            "sigmoid_derivative(x) = [0.19661193 0.10499359 0.04517666]\n"
          ],
          "name": "stdout"
        }
      ]
    }
  ]
}