{
  "nbformat": 4,
  "nbformat_minor": 0,
  "metadata": {
    "colab": {
      "name": "C2_W3.ipynb",
      "provenance": [],
      "collapsed_sections": []
    },
    "kernelspec": {
      "name": "python3",
      "display_name": "Python 3"
    }
  },
  "cells": [
    {
      "cell_type": "code",
      "metadata": {
        "id": "aSsIGQW03Ax0",
        "colab_type": "code",
        "colab": {
          "base_uri": "https://localhost:8080/",
          "height": 124
        },
        "outputId": "0bbd08aa-e0f4-455c-efdd-e243570476fd"
      },
      "source": [
        "import numpy as np\n",
        "import tensorflow.compat.v1 as tf\n",
        "tf.disable_v2_behavior()\n",
        "coefficients = np.array([[1],[-20],[25]])\n",
        "\n",
        "w = tf.Variable([0],dtype=tf.float32)\n",
        "x = tf.placeholder(tf.float32 ,[3,1])\n",
        "cost = x[0][0]*w**2 + x[1][0]*w + x[2][0]\n",
        "train = tf.train.GradientDescentOptimizer(0.01).minimize(cost)\n",
        "init = tf.global_variables_initializer()\n",
        "session =  tf.Session()\n",
        "session.run(init)\n",
        "print(session.run(w))\n",
        "\n",
        "for i in range(1000):\n",
        "  session.run(train,feed_dict={x:coefficients})\n",
        "print(session.run(w))"
      ],
      "execution_count": 3,
      "outputs": [
        {
          "output_type": "stream",
          "text": [
            "WARNING:tensorflow:From /usr/local/lib/python3.6/dist-packages/tensorflow/python/compat/v2_compat.py:96: disable_resource_variables (from tensorflow.python.ops.variable_scope) is deprecated and will be removed in a future version.\n",
            "Instructions for updating:\n",
            "non-resource variables are not supported in the long term\n",
            "[0.]\n",
            "[9.999976]\n"
          ],
          "name": "stdout"
        }
      ]
    }
  ]
}